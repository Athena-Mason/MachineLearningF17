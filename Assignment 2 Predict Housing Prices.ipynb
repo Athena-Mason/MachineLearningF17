{
 "cells": [
  {
   "cell_type": "markdown",
   "metadata": {},
   "source": [
    "# Task One\n",
    "### Initial setup"
   ]
  },
  {
   "cell_type": "code",
   "execution_count": 23,
   "metadata": {
    "scrolled": true
   },
   "outputs": [
    {
     "data": {
      "text/html": [
       "<div>\n",
       "<style>\n",
       "    .dataframe thead tr:only-child th {\n",
       "        text-align: right;\n",
       "    }\n",
       "\n",
       "    .dataframe thead th {\n",
       "        text-align: left;\n",
       "    }\n",
       "\n",
       "    .dataframe tbody tr th {\n",
       "        vertical-align: top;\n",
       "    }\n",
       "</style>\n",
       "<table border=\"1\" class=\"dataframe\">\n",
       "  <thead>\n",
       "    <tr style=\"text-align: right;\">\n",
       "      <th></th>\n",
       "      <th>id</th>\n",
       "      <th>date</th>\n",
       "      <th>price</th>\n",
       "      <th>bedrooms</th>\n",
       "      <th>bathrooms</th>\n",
       "      <th>sqft_living</th>\n",
       "      <th>sqft_lot</th>\n",
       "      <th>floors</th>\n",
       "      <th>waterfront</th>\n",
       "      <th>view</th>\n",
       "      <th>...</th>\n",
       "      <th>grade</th>\n",
       "      <th>sqft_above</th>\n",
       "      <th>sqft_basement</th>\n",
       "      <th>yr_built</th>\n",
       "      <th>yr_renovated</th>\n",
       "      <th>zipcode</th>\n",
       "      <th>lat</th>\n",
       "      <th>long</th>\n",
       "      <th>sqft_living15</th>\n",
       "      <th>sqft_lot15</th>\n",
       "    </tr>\n",
       "  </thead>\n",
       "  <tbody>\n",
       "    <tr>\n",
       "      <th>0</th>\n",
       "      <td>7129300520</td>\n",
       "      <td>20141013T000000</td>\n",
       "      <td>221900.0</td>\n",
       "      <td>3</td>\n",
       "      <td>1.00</td>\n",
       "      <td>1180</td>\n",
       "      <td>5650</td>\n",
       "      <td>1.0</td>\n",
       "      <td>0</td>\n",
       "      <td>0</td>\n",
       "      <td>...</td>\n",
       "      <td>7</td>\n",
       "      <td>1180</td>\n",
       "      <td>0</td>\n",
       "      <td>1955</td>\n",
       "      <td>0</td>\n",
       "      <td>98178</td>\n",
       "      <td>47.5112</td>\n",
       "      <td>-122.257</td>\n",
       "      <td>1340</td>\n",
       "      <td>5650</td>\n",
       "    </tr>\n",
       "    <tr>\n",
       "      <th>1</th>\n",
       "      <td>6414100192</td>\n",
       "      <td>20141209T000000</td>\n",
       "      <td>538000.0</td>\n",
       "      <td>3</td>\n",
       "      <td>2.25</td>\n",
       "      <td>2570</td>\n",
       "      <td>7242</td>\n",
       "      <td>2.0</td>\n",
       "      <td>0</td>\n",
       "      <td>0</td>\n",
       "      <td>...</td>\n",
       "      <td>7</td>\n",
       "      <td>2170</td>\n",
       "      <td>400</td>\n",
       "      <td>1951</td>\n",
       "      <td>1991</td>\n",
       "      <td>98125</td>\n",
       "      <td>47.7210</td>\n",
       "      <td>-122.319</td>\n",
       "      <td>1690</td>\n",
       "      <td>7639</td>\n",
       "    </tr>\n",
       "    <tr>\n",
       "      <th>2</th>\n",
       "      <td>5631500400</td>\n",
       "      <td>20150225T000000</td>\n",
       "      <td>180000.0</td>\n",
       "      <td>2</td>\n",
       "      <td>1.00</td>\n",
       "      <td>770</td>\n",
       "      <td>10000</td>\n",
       "      <td>1.0</td>\n",
       "      <td>0</td>\n",
       "      <td>0</td>\n",
       "      <td>...</td>\n",
       "      <td>6</td>\n",
       "      <td>770</td>\n",
       "      <td>0</td>\n",
       "      <td>1933</td>\n",
       "      <td>0</td>\n",
       "      <td>98028</td>\n",
       "      <td>47.7379</td>\n",
       "      <td>-122.233</td>\n",
       "      <td>2720</td>\n",
       "      <td>8062</td>\n",
       "    </tr>\n",
       "    <tr>\n",
       "      <th>3</th>\n",
       "      <td>2487200875</td>\n",
       "      <td>20141209T000000</td>\n",
       "      <td>604000.0</td>\n",
       "      <td>4</td>\n",
       "      <td>3.00</td>\n",
       "      <td>1960</td>\n",
       "      <td>5000</td>\n",
       "      <td>1.0</td>\n",
       "      <td>0</td>\n",
       "      <td>0</td>\n",
       "      <td>...</td>\n",
       "      <td>7</td>\n",
       "      <td>1050</td>\n",
       "      <td>910</td>\n",
       "      <td>1965</td>\n",
       "      <td>0</td>\n",
       "      <td>98136</td>\n",
       "      <td>47.5208</td>\n",
       "      <td>-122.393</td>\n",
       "      <td>1360</td>\n",
       "      <td>5000</td>\n",
       "    </tr>\n",
       "    <tr>\n",
       "      <th>4</th>\n",
       "      <td>1954400510</td>\n",
       "      <td>20150218T000000</td>\n",
       "      <td>510000.0</td>\n",
       "      <td>3</td>\n",
       "      <td>2.00</td>\n",
       "      <td>1680</td>\n",
       "      <td>8080</td>\n",
       "      <td>1.0</td>\n",
       "      <td>0</td>\n",
       "      <td>0</td>\n",
       "      <td>...</td>\n",
       "      <td>8</td>\n",
       "      <td>1680</td>\n",
       "      <td>0</td>\n",
       "      <td>1987</td>\n",
       "      <td>0</td>\n",
       "      <td>98074</td>\n",
       "      <td>47.6168</td>\n",
       "      <td>-122.045</td>\n",
       "      <td>1800</td>\n",
       "      <td>7503</td>\n",
       "    </tr>\n",
       "  </tbody>\n",
       "</table>\n",
       "<p>5 rows × 21 columns</p>\n",
       "</div>"
      ],
      "text/plain": [
       "           id             date     price  bedrooms  bathrooms  sqft_living  \\\n",
       "0  7129300520  20141013T000000  221900.0         3       1.00         1180   \n",
       "1  6414100192  20141209T000000  538000.0         3       2.25         2570   \n",
       "2  5631500400  20150225T000000  180000.0         2       1.00          770   \n",
       "3  2487200875  20141209T000000  604000.0         4       3.00         1960   \n",
       "4  1954400510  20150218T000000  510000.0         3       2.00         1680   \n",
       "\n",
       "   sqft_lot  floors  waterfront  view     ...      grade  sqft_above  \\\n",
       "0      5650     1.0           0     0     ...          7        1180   \n",
       "1      7242     2.0           0     0     ...          7        2170   \n",
       "2     10000     1.0           0     0     ...          6         770   \n",
       "3      5000     1.0           0     0     ...          7        1050   \n",
       "4      8080     1.0           0     0     ...          8        1680   \n",
       "\n",
       "   sqft_basement  yr_built  yr_renovated  zipcode      lat     long  \\\n",
       "0              0      1955             0    98178  47.5112 -122.257   \n",
       "1            400      1951          1991    98125  47.7210 -122.319   \n",
       "2              0      1933             0    98028  47.7379 -122.233   \n",
       "3            910      1965             0    98136  47.5208 -122.393   \n",
       "4              0      1987             0    98074  47.6168 -122.045   \n",
       "\n",
       "   sqft_living15  sqft_lot15  \n",
       "0           1340        5650  \n",
       "1           1690        7639  \n",
       "2           2720        8062  \n",
       "3           1360        5000  \n",
       "4           1800        7503  \n",
       "\n",
       "[5 rows x 21 columns]"
      ]
     },
     "execution_count": 23,
     "metadata": {},
     "output_type": "execute_result"
    }
   ],
   "source": [
    "#check first five rows of data\n",
    "import pandas as pd\n",
    "df = pd.read_csv('kc_house_data.csv')\n",
    "df.head()"
   ]
  },
  {
   "cell_type": "code",
   "execution_count": 24,
   "metadata": {},
   "outputs": [
    {
     "data": {
      "text/plain": [
       "(21613, 21)"
      ]
     },
     "execution_count": 24,
     "metadata": {},
     "output_type": "execute_result"
    }
   ],
   "source": [
    "#check shape of data\n",
    "df.shape"
   ]
  },
  {
   "cell_type": "code",
   "execution_count": 25,
   "metadata": {},
   "outputs": [
    {
     "data": {
      "text/plain": [
       "Index(['id', 'date', 'price', 'bedrooms', 'bathrooms', 'sqft_living',\n",
       "       'sqft_lot', 'floors', 'waterfront', 'view', 'condition', 'grade',\n",
       "       'sqft_above', 'sqft_basement', 'yr_built', 'yr_renovated', 'zipcode',\n",
       "       'lat', 'long', 'sqft_living15', 'sqft_lot15'],\n",
       "      dtype='object')"
      ]
     },
     "execution_count": 25,
     "metadata": {},
     "output_type": "execute_result"
    }
   ],
   "source": [
    "#check columns\n",
    "df.columns"
   ]
  },
  {
   "cell_type": "markdown",
   "metadata": {},
   "source": [
    "### Plotting scatter matrix. This will be used for questions 2-4 in part 1."
   ]
  },
  {
   "cell_type": "code",
   "execution_count": 26,
   "metadata": {
    "scrolled": false
   },
   "outputs": [],
   "source": [
    "import matplotlib.pyplot as plt\n",
    "from pandas.plotting import scatter_matrix\n",
    "\n",
    "# excluding id, date, lat, and long, as they probably do not fit the regression.\n",
    "testdf = df.drop(['id', 'date', 'lat', 'long'], axis=1)\n",
    "#scatter_matrix(testdf, figsize=(16,16), diagonal='kde')\n",
    "#plt.show()"
   ]
  },
  {
   "cell_type": "markdown",
   "metadata": {},
   "source": [
    "### 1. Is there any data missing (Nan)? If so, how would you remove it?"
   ]
  },
  {
   "cell_type": "code",
   "execution_count": 27,
   "metadata": {},
   "outputs": [
    {
     "data": {
      "text/plain": [
       "id               0\n",
       "date             0\n",
       "price            0\n",
       "bedrooms         0\n",
       "bathrooms        0\n",
       "sqft_living      0\n",
       "sqft_lot         0\n",
       "floors           0\n",
       "waterfront       0\n",
       "view             0\n",
       "condition        0\n",
       "grade            0\n",
       "sqft_above       0\n",
       "sqft_basement    0\n",
       "yr_built         0\n",
       "yr_renovated     0\n",
       "zipcode          0\n",
       "lat              0\n",
       "long             0\n",
       "sqft_living15    0\n",
       "sqft_lot15       0\n",
       "dtype: int64"
      ]
     },
     "execution_count": 27,
     "metadata": {},
     "output_type": "execute_result"
    }
   ],
   "source": [
    "nulldf = df.isnull()\n",
    "nulldf.sum(axis=0)"
   ]
  },
  {
   "cell_type": "markdown",
   "metadata": {},
   "source": [
    "The code above checks for null (Nan) values in each column and then provides the total number of missing values for each column. Because each column's total is 0, we know there are no values missing from the data."
   ]
  },
  {
   "cell_type": "markdown",
   "metadata": {},
   "source": [
    "### 2. What columns appear to offer the best hope of a linear approximation of price?\n",
    "The scatter matrix above provides a way to compare the price to other attributes. Columns which offer the best linear approximations should:\n",
    "* Appear to have a correlation between the column and price\n",
    "* Not make a line which is too close to vertical or horizontal\n",
    "* Have minimal fanning (i.e. data should be closely clumped along a line)\n",
    "\n",
    "The following columns come closest to meeting those criteria:\n",
    "* bathrooms (number of bathrooms in the house)\n",
    "* sqft_living (living area in square feet) \n",
    "* grade (a score given to the house based on other criteria)\n",
    "* sqft_above (living area in square feet, minus the basement)\n",
    "* sqft_living15 (living area in square feet in 2015)\n",
    "\n",
    "\n",
    "### 3. Which columns data are categorical? Which are numerical?\n",
    "Categorical:\n",
    "* waterfront\n",
    "* view\n",
    "* condition\n",
    "* grade (could arguably be numerical)\n",
    "* yr_built\n",
    "* yr_renovated\n",
    "* zipcode\n",
    "\n",
    "Numerical:\n",
    "* bedrooms\n",
    "* bathrooms\n",
    "* sqft_living\n",
    "* sqft_lot\n",
    "* floors\n",
    "* sqft_above\n",
    "* sqft_basement\n",
    "* lat\n",
    "* long\n",
    "* sqft_living15\n",
    "* sqft_lot15\n",
    "\n",
    "\n",
    "### 4. Which is the \"best\" column to use for prediction? This is a judgement call, but I'd like to know how you justify it.\n",
    "The number of bathrooms compared to the price has a clear trend, but there is enough fanning that it is likely not the most useful predictor. Sqft_living15 and sqft_above are both very similar to sqt_living but with slightly more fanned out data.\n",
    "\n",
    "This leaves sqft_living and grade as possible predictors. Either one of them appears to be workable, but grade seems to have a slightly stronger correlation with price."
   ]
  },
  {
   "cell_type": "markdown",
   "metadata": {},
   "source": [
    "# Task Two"
   ]
  },
  {
   "cell_type": "code",
   "execution_count": 28,
   "metadata": {},
   "outputs": [],
   "source": [
    "#load data \n",
    "import pandas as pd\n",
    "df = pd.read_csv('kc_house_data.csv')\n",
    "\n",
    "# make the predictor matrix and label vector\n",
    "X = df[['grade']].as_matrix()\n",
    "y = df[['price']].as_matrix()\n",
    "\n",
    "# make the linear regression object\n",
    "from sklearn.linear_model import LinearRegression\n",
    "lr = LinearRegression()\n",
    "\n",
    "# split the data for validation\n",
    "from sklearn.model_selection import train_test_split\n",
    "X_train, X_test, y_train, y_test = train_test_split(X, y, test_size=0.2)\n",
    "\n",
    "lr.fit(X_train, y_train)\n",
    "lr.coef_,lr.intercept_\n",
    "train_predicted = lr.predict(X_train)\n",
    "test_predicted = lr.predict(X_test)\n"
   ]
  },
  {
   "cell_type": "code",
   "execution_count": 29,
   "metadata": {},
   "outputs": [
    {
     "data": {
      "image/png": "[encoded data removed]",
      "text/plain": [
       "<matplotlib.figure.Figure at 0x7f29be57eac8>"
      ]
     },
     "metadata": {},
     "output_type": "display_data"
    }
   ],
   "source": [
    "# plot residuals against predictions\n",
    "import matplotlib.pyplot as plt\n",
    "plt.scatter(train_predicted , train_predicted - y_train, color = 'b', s=1, alpha=0.5)\n",
    "test_predicted = lr.predict(X_test)\n",
    "plt.scatter(test_predicted , test_predicted - y_test, color = 'g', s=1)\n",
    "plt.hlines(y=0, xmin=0, xmax = 5000000, color='r')\n",
    "plt.show()"
   ]
  },
  {
   "cell_type": "markdown",
   "metadata": {},
   "source": [
    "### 1. How might you choose which column is best for the predictive model?\n",
    "In Task 1, I selected grade as a column for the predictive model based on it appearing to have a strong correlation with price.\n",
    "\n",
    "### 2. Can you compare the quality of the different columns as predictors before you train a model? How?\n",
    "Columns with large spreads or weak correlations are likely to be poor predictors.\n"
   ]
  },
  {
   "cell_type": "markdown",
   "metadata": {},
   "source": [
    "### 3. How many rows are in the training data? How many rows in the test data?\n",
    "We can see from the code below that there are 17,290 rows in the training data and 4,323 rows in the testing data (and that the total number of rows in the training and testing data sets add up to the 21,613 rows in the full data set)"
   ]
  },
  {
   "cell_type": "code",
   "execution_count": 30,
   "metadata": {
    "scrolled": true
   },
   "outputs": [
    {
     "data": {
      "text/plain": [
       "17290"
      ]
     },
     "execution_count": 30,
     "metadata": {},
     "output_type": "execute_result"
    }
   ],
   "source": [
    "# rows in training data\n",
    "X_train.size"
   ]
  },
  {
   "cell_type": "code",
   "execution_count": 31,
   "metadata": {},
   "outputs": [
    {
     "data": {
      "text/plain": [
       "4323"
      ]
     },
     "execution_count": 31,
     "metadata": {},
     "output_type": "execute_result"
    }
   ],
   "source": [
    "# rows in testing data\n",
    "X_test.size"
   ]
  },
  {
   "cell_type": "code",
   "execution_count": 32,
   "metadata": {
    "scrolled": true
   },
   "outputs": [
    {
     "data": {
      "text/plain": [
       "21613"
      ]
     },
     "execution_count": 32,
     "metadata": {},
     "output_type": "execute_result"
    }
   ],
   "source": [
    "#total rows\n",
    "X_train.size + X_test.size"
   ]
  },
  {
   "cell_type": "markdown",
   "metadata": {},
   "source": [
    "### 4. What do the metric scores tell you about the model?\n",
    "As we can see from the metric scores below, this single-variant model is not a very effective predictor. The maximum score for the r2_score and explained_variance_score is 1.0, and the model scored approximately 0.454 in both, and the mean error was $178,967."
   ]
  },
  {
   "cell_type": "code",
   "execution_count": 33,
   "metadata": {},
   "outputs": [
    {
     "data": {
      "text/plain": [
       "(0.45072334489236499, 0.45077713869189118, 172677.64829203009)"
      ]
     },
     "execution_count": 33,
     "metadata": {},
     "output_type": "execute_result"
    }
   ],
   "source": [
    "from sklearn import metrics\n",
    "\n",
    "metrics.r2_score(y_test, test_predicted), metrics.explained_variance_score(y_test, test_predicted), metrics.mean_absolute_error(y_test, test_predicted)"
   ]
  },
  {
   "cell_type": "markdown",
   "metadata": {},
   "source": [
    "However, these scores do not tell us that the model is less effective than other columns; e.g., using bathrooms as the single variable results in a model scoring closer to .3, with a mean error of $205,253"
   ]
  },
  {
   "cell_type": "code",
   "execution_count": 34,
   "metadata": {},
   "outputs": [
    {
     "data": {
      "text/plain": [
       "(0.27897758948205109, 0.27899859611515188, 205300.67922410709)"
      ]
     },
     "execution_count": 34,
     "metadata": {},
     "output_type": "execute_result"
    }
   ],
   "source": [
    "#load data \n",
    "import pandas as pd\n",
    "df = pd.read_csv('kc_house_data.csv')\n",
    "\n",
    "# make the predictor matrix and label vector\n",
    "X = df[['bathrooms']].as_matrix()\n",
    "y = df[['price']].as_matrix()\n",
    "\n",
    "# make the linear regression object\n",
    "from sklearn.linear_model import LinearRegression\n",
    "lr = LinearRegression()\n",
    "\n",
    "# split the data for validation\n",
    "from sklearn.model_selection import train_test_split\n",
    "X_train, X_test, y_train, y_test = train_test_split(X, y, test_size=0.2)\n",
    "\n",
    "lr.fit(X_train, y_train)\n",
    "lr.coef_,lr.intercept_\n",
    "train_predicted = lr.predict(X_train)\n",
    "test_predicted = lr.predict(X_test)\n",
    "\n",
    "from sklearn import metrics\n",
    "\n",
    "metrics.r2_score(y_test, test_predicted), metrics.explained_variance_score(y_test, test_predicted), metrics.mean_absolute_error(y_test, test_predicted)"
   ]
  },
  {
   "cell_type": "markdown",
   "metadata": {},
   "source": [
    "# Task Three\n",
    "### Initial Model"
   ]
  },
  {
   "cell_type": "code",
   "execution_count": 35,
   "metadata": {},
   "outputs": [
    {
     "data": {
      "image/png": "[encoded data removed]",
      "text/plain": [
       "<matplotlib.figure.Figure at 0x7f29b14bb860>"
      ]
     },
     "metadata": {},
     "output_type": "display_data"
    }
   ],
   "source": [
    "import pandas as pd\n",
    "df = pd.read_csv('kc_house_data.csv')\n",
    "\n",
    "#dropping categorical data for now\n",
    "df = df.drop(['id', 'date', 'zipcode', 'waterfront', 'view', 'condition', 'grade', 'lat', 'long', 'yr_built', 'yr_renovated'], axis=1)\n",
    "\n",
    "# Get X matrix and y vector.\n",
    "X = df.drop(['price'], axis=1).as_matrix()\n",
    "y = df[['price']].as_matrix()\n",
    "\n",
    "# Train/test split\n",
    "from sklearn.linear_model import LinearRegression\n",
    "from sklearn.model_selection import train_test_split\n",
    "X_train, X_test, y_train, y_test = train_test_split(X, y, test_size=0.2)\n",
    "\n",
    "# Train the regression model \n",
    "lr = LinearRegression()\n",
    "lr.fit(X_train, y_train)\n",
    "\n",
    "# Generate predictions for analysis\n",
    "train_predicted = lr.predict(X_train)\n",
    "test_predicted = lr.predict(X_test)\n",
    "\n",
    "# plot residuals against predictions\n",
    "import matplotlib.pyplot as plt\n",
    "plt.scatter(train_predicted , train_predicted - y_train, color = 'b', s=1, alpha=0.5)\n",
    "test_predicted = lr.predict(X_test)\n",
    "plt.scatter(test_predicted , test_predicted - y_test, color = 'g', s=1)\n",
    "plt.hlines(y=0, xmin=0, xmax = 5000000, color='r')\n",
    "plt.show()"
   ]
  },
  {
   "cell_type": "markdown",
   "metadata": {},
   "source": [
    "\n",
    "### 1. What are the values of the coefficients learned by the model? what is the intercept?\n",
    "The coefficients and intercept learned by the original model are below:\n"
   ]
  },
  {
   "cell_type": "code",
   "execution_count": 36,
   "metadata": {},
   "outputs": [
    {
     "data": {
      "text/plain": [
       "(array([[ -5.59071784e+04,   2.91591536e+03,   1.89911624e+02,\n",
       "          -4.88732528e-03,   1.45515158e+04,   7.13008042e+01,\n",
       "           1.18610820e+02,   7.56886592e+01,  -7.69383673e-01]]),\n",
       " array([ 3313.45247571]))"
      ]
     },
     "execution_count": 36,
     "metadata": {},
     "output_type": "execute_result"
    }
   ],
   "source": [
    "lr.coef_,lr.intercept_"
   ]
  },
  {
   "cell_type": "markdown",
   "metadata": {},
   "source": [
    "### 2. How can I evaluate the quality of multivariate models since I can't plot them and look at them? Why can't I plot them directly?\n",
    "Multivariate models cannot be plotted directly because each variable adds another dimension to the graph. When there is only a single independent variable, we can plot it relative to the dependent variable (in this case, price) on a two-dimensional graph. Although it is more difficult to view, we can also create three-dimensional graphs if another independent variable is added. Any more variables than that, and it's impossible to graph in three-dimensional space.\n",
    "\n",
    "One way we can evaluate multivariate models using the same metrics provided by scikit-learn that we used for the single-column model:"
   ]
  },
  {
   "cell_type": "code",
   "execution_count": 37,
   "metadata": {},
   "outputs": [
    {
     "data": {
      "text/plain": [
       "(0.52518770427846806, 0.52519822165309016, 165237.038191673)"
      ]
     },
     "execution_count": 37,
     "metadata": {},
     "output_type": "execute_result"
    }
   ],
   "source": [
    "from sklearn import metrics\n",
    "\n",
    "metrics.r2_score(y_test, test_predicted), metrics.explained_variance_score(y_test, test_predicted), metrics.mean_absolute_error(y_test, test_predicted)"
   ]
  },
  {
   "cell_type": "markdown",
   "metadata": {},
   "source": [
    "As we can see, based on these metrics, the multivariate model is slightly--but not significantly--better than the model with just the grade (.52 for both scores rather than .45, and a slightly lower mean absolute error)"
   ]
  },
  {
   "cell_type": "markdown",
   "metadata": {},
   "source": [
    "### 3. How does variance affect the model's ability to predict prices?\n",
    "High variance reduces the model's ability to accurately predict prices. When there is high variance, the model is closely fitted to the testing data but may fail to generalize to other data."
   ]
  },
  {
   "cell_type": "markdown",
   "metadata": {},
   "source": [
    "### 4. What visual tools do I have to check for likely helpful predictors? Which metrics can help?\n",
    "The scatter_matrix used in part one above is useful for identifying potentially helpful predictors, as well as less helpful predictors. For example, we can see that sqft_living15 data values are very similar to sqft_living values. Including both columns in our model essentially doubles the weight of that metric.\n",
    "\n",
    "As noted above, grade appeared to be a useful predictor, and it is not included in our current model. If we add it back in, the results are:"
   ]
  },
  {
   "cell_type": "code",
   "execution_count": 38,
   "metadata": {},
   "outputs": [
    {
     "data": {
      "image/png": "[encoded data removed]",
      "text/plain": [
       "<matplotlib.figure.Figure at 0x7f29be7d8358>"
      ]
     },
     "metadata": {},
     "output_type": "display_data"
    }
   ],
   "source": [
    "import pandas as pd\n",
    "df = pd.read_csv('kc_house_data.csv')\n",
    "\n",
    "#dropping categorical data for now\n",
    "df = df.drop(['id', 'date', 'zipcode', 'waterfront', 'view', 'condition', 'lat', 'long', 'yr_built', 'yr_renovated'], axis=1)\n",
    "\n",
    "# Get X matrix and y vector.\n",
    "X = df.drop(['price'], axis=1).as_matrix()\n",
    "y = df[['price']].as_matrix()\n",
    "\n",
    "# Train/test split\n",
    "from sklearn.linear_model import LinearRegression\n",
    "from sklearn.model_selection import train_test_split\n",
    "X_train, X_test, y_train, y_test = train_test_split(X, y, test_size=0.2)\n",
    "\n",
    "# Train the regression model \n",
    "lr = LinearRegression()\n",
    "lr.fit(X_train, y_train)\n",
    "\n",
    "# Generate predictions for analysis\n",
    "train_predicted = lr.predict(X_train)\n",
    "test_predicted = lr.predict(X_test)\n",
    "\n",
    "# plot residuals against predictions\n",
    "import matplotlib.pyplot as plt\n",
    "plt.scatter(train_predicted , train_predicted - y_train, color = 'b', s=1, alpha=0.5)\n",
    "test_predicted = lr.predict(X_test)\n",
    "plt.scatter(test_predicted , test_predicted - y_test, color = 'g', s=1)\n",
    "plt.hlines(y=0, xmin=0, xmax = 5000000, color='r')\n",
    "plt.show()"
   ]
  },
  {
   "cell_type": "code",
   "execution_count": 39,
   "metadata": {},
   "outputs": [
    {
     "data": {
      "text/plain": [
       "(0.55173001487045092, 0.55180877858114208, 162867.93196964572)"
      ]
     },
     "execution_count": 39,
     "metadata": {},
     "output_type": "execute_result"
    }
   ],
   "source": [
    "from sklearn import metrics\n",
    "\n",
    "metrics.r2_score(y_test, test_predicted), metrics.explained_variance_score(y_test, test_predicted), metrics.mean_absolute_error(y_test, test_predicted)"
   ]
  },
  {
   "cell_type": "markdown",
   "metadata": {},
   "source": [
    "Adding grade back into the model improved the model somewhat, but not significantly. If I remove the columns which are essentially duplicate data, the score of the model is not changed significantly:"
   ]
  },
  {
   "cell_type": "code",
   "execution_count": 40,
   "metadata": {},
   "outputs": [
    {
     "data": {
      "image/png": "[encoded data removed]",
      "text/plain": [
       "<matplotlib.figure.Figure at 0x7f29be81a860>"
      ]
     },
     "metadata": {},
     "output_type": "display_data"
    }
   ],
   "source": [
    "import pandas as pd\n",
    "df = pd.read_csv('kc_house_data.csv')\n",
    "\n",
    "#dropping categorical data, except for grade\n",
    "df = df.drop(['id', 'date', 'zipcode', 'waterfront', 'view', 'condition', 'lat', 'long', 'yr_built', 'yr_renovated'], axis=1)\n",
    "\n",
    "#dropping potentially less useful predictors\n",
    "df = df.drop(['sqft_above', 'sqft_living15', 'sqft_lot15', 'floors', 'bedrooms', 'bathrooms', 'floors', 'sqft_lot', 'sqft_basement'], axis=1)\n",
    "\n",
    "# Get X matrix and y vector.\n",
    "X = df.drop(['price'], axis=1).as_matrix()\n",
    "y = df[['price']].as_matrix()\n",
    "\n",
    "# Train/test split\n",
    "from sklearn.linear_model import LinearRegression\n",
    "from sklearn.model_selection import train_test_split\n",
    "X_train, X_test, y_train, y_test = train_test_split(X, y, test_size=0.2)\n",
    "\n",
    "# Train the regression model \n",
    "lr = LinearRegression()\n",
    "lr.fit(X_train, y_train)\n",
    "\n",
    "# Generate predictions for analysis\n",
    "train_predicted = lr.predict(X_train)\n",
    "test_predicted = lr.predict(X_test)\n",
    "\n",
    "# plot residuals against predictions\n",
    "import matplotlib.pyplot as plt\n",
    "plt.scatter(train_predicted , train_predicted - y_train, color = 'b', s=1, alpha=0.5)\n",
    "test_predicted = lr.predict(X_test)\n",
    "plt.scatter(test_predicted , test_predicted - y_test, color = 'g', s=1)\n",
    "plt.hlines(y=0, xmin=0, xmax = 5000000, color='r')\n",
    "plt.show()"
   ]
  },
  {
   "cell_type": "code",
   "execution_count": 41,
   "metadata": {},
   "outputs": [
    {
     "data": {
      "text/plain": [
       "(0.52987876989654947, 0.52992529981674952, 164367.3233723474)"
      ]
     },
     "execution_count": 41,
     "metadata": {},
     "output_type": "execute_result"
    }
   ],
   "source": [
    "from sklearn import metrics\n",
    "\n",
    "metrics.r2_score(y_test, test_predicted), metrics.explained_variance_score(y_test, test_predicted), metrics.mean_absolute_error(y_test, test_predicted)"
   ]
  },
  {
   "cell_type": "markdown",
   "metadata": {},
   "source": [
    "### 5. Think about how you might use zip code to make a better model. How can we organize the 70 zip codes to provide insight into price diferentiation without adding 69 dimensions to the model?\n",
    "We can organize the zip codes into categories based on average price and then use this new category column to improve our model"
   ]
  },
  {
   "cell_type": "code",
   "execution_count": 42,
   "metadata": {},
   "outputs": [
    {
     "data": {
      "text/html": [
       "<div>\n",
       "<style>\n",
       "    .dataframe thead tr:only-child th {\n",
       "        text-align: right;\n",
       "    }\n",
       "\n",
       "    .dataframe thead th {\n",
       "        text-align: left;\n",
       "    }\n",
       "\n",
       "    .dataframe tbody tr th {\n",
       "        vertical-align: top;\n",
       "    }\n",
       "</style>\n",
       "<table border=\"1\" class=\"dataframe\">\n",
       "  <thead>\n",
       "    <tr style=\"text-align: right;\">\n",
       "      <th></th>\n",
       "      <th>avg_price</th>\n",
       "    </tr>\n",
       "    <tr>\n",
       "      <th>zipcode</th>\n",
       "      <th></th>\n",
       "    </tr>\n",
       "  </thead>\n",
       "  <tbody>\n",
       "    <tr>\n",
       "      <th>98002</th>\n",
       "      <td>234284</td>\n",
       "    </tr>\n",
       "    <tr>\n",
       "      <th>98168</th>\n",
       "      <td>240328</td>\n",
       "    </tr>\n",
       "    <tr>\n",
       "      <th>98032</th>\n",
       "      <td>251296</td>\n",
       "    </tr>\n",
       "    <tr>\n",
       "      <th>98001</th>\n",
       "      <td>280804</td>\n",
       "    </tr>\n",
       "    <tr>\n",
       "      <th>98148</th>\n",
       "      <td>284908</td>\n",
       "    </tr>\n",
       "    <tr>\n",
       "      <th>98023</th>\n",
       "      <td>286732</td>\n",
       "    </tr>\n",
       "    <tr>\n",
       "      <th>98188</th>\n",
       "      <td>289078</td>\n",
       "    </tr>\n",
       "    <tr>\n",
       "      <th>98003</th>\n",
       "      <td>294111</td>\n",
       "    </tr>\n",
       "    <tr>\n",
       "      <th>98030</th>\n",
       "      <td>296187</td>\n",
       "    </tr>\n",
       "    <tr>\n",
       "      <th>98031</th>\n",
       "      <td>300539</td>\n",
       "    </tr>\n",
       "    <tr>\n",
       "      <th>98198</th>\n",
       "      <td>302878</td>\n",
       "    </tr>\n",
       "    <tr>\n",
       "      <th>98055</th>\n",
       "      <td>304262</td>\n",
       "    </tr>\n",
       "    <tr>\n",
       "      <th>98178</th>\n",
       "      <td>310612</td>\n",
       "    </tr>\n",
       "    <tr>\n",
       "      <th>98042</th>\n",
       "      <td>311632</td>\n",
       "    </tr>\n",
       "    <tr>\n",
       "      <th>98022</th>\n",
       "      <td>315709</td>\n",
       "    </tr>\n",
       "    <tr>\n",
       "      <th>98106</th>\n",
       "      <td>319581</td>\n",
       "    </tr>\n",
       "    <tr>\n",
       "      <th>98092</th>\n",
       "      <td>334921</td>\n",
       "    </tr>\n",
       "    <tr>\n",
       "      <th>98058</th>\n",
       "      <td>353608</td>\n",
       "    </tr>\n",
       "    <tr>\n",
       "      <th>98108</th>\n",
       "      <td>355678</td>\n",
       "    </tr>\n",
       "    <tr>\n",
       "      <th>98146</th>\n",
       "      <td>359483</td>\n",
       "    </tr>\n",
       "    <tr>\n",
       "      <th>98038</th>\n",
       "      <td>366867</td>\n",
       "    </tr>\n",
       "    <tr>\n",
       "      <th>98133</th>\n",
       "      <td>386997</td>\n",
       "    </tr>\n",
       "    <tr>\n",
       "      <th>98118</th>\n",
       "      <td>417637</td>\n",
       "    </tr>\n",
       "    <tr>\n",
       "      <th>98056</th>\n",
       "      <td>420890</td>\n",
       "    </tr>\n",
       "    <tr>\n",
       "      <th>98010</th>\n",
       "      <td>423665</td>\n",
       "    </tr>\n",
       "    <tr>\n",
       "      <th>98155</th>\n",
       "      <td>423725</td>\n",
       "    </tr>\n",
       "    <tr>\n",
       "      <th>98126</th>\n",
       "      <td>424706</td>\n",
       "    </tr>\n",
       "    <tr>\n",
       "      <th>98019</th>\n",
       "      <td>424788</td>\n",
       "    </tr>\n",
       "    <tr>\n",
       "      <th>98045</th>\n",
       "      <td>439471</td>\n",
       "    </tr>\n",
       "    <tr>\n",
       "      <th>98014</th>\n",
       "      <td>455617</td>\n",
       "    </tr>\n",
       "    <tr>\n",
       "      <th>...</th>\n",
       "      <td>...</td>\n",
       "    </tr>\n",
       "    <tr>\n",
       "      <th>98117</th>\n",
       "      <td>576795</td>\n",
       "    </tr>\n",
       "    <tr>\n",
       "      <th>98107</th>\n",
       "      <td>579053</td>\n",
       "    </tr>\n",
       "    <tr>\n",
       "      <th>98024</th>\n",
       "      <td>580526</td>\n",
       "    </tr>\n",
       "    <tr>\n",
       "      <th>98103</th>\n",
       "      <td>584919</td>\n",
       "    </tr>\n",
       "    <tr>\n",
       "      <th>98144</th>\n",
       "      <td>594547</td>\n",
       "    </tr>\n",
       "    <tr>\n",
       "      <th>98029</th>\n",
       "      <td>612653</td>\n",
       "    </tr>\n",
       "    <tr>\n",
       "      <th>98027</th>\n",
       "      <td>616990</td>\n",
       "    </tr>\n",
       "    <tr>\n",
       "      <th>98007</th>\n",
       "      <td>617105</td>\n",
       "    </tr>\n",
       "    <tr>\n",
       "      <th>98116</th>\n",
       "      <td>618634</td>\n",
       "    </tr>\n",
       "    <tr>\n",
       "      <th>98115</th>\n",
       "      <td>619900</td>\n",
       "    </tr>\n",
       "    <tr>\n",
       "      <th>98122</th>\n",
       "      <td>634360</td>\n",
       "    </tr>\n",
       "    <tr>\n",
       "      <th>98052</th>\n",
       "      <td>645231</td>\n",
       "    </tr>\n",
       "    <tr>\n",
       "      <th>98008</th>\n",
       "      <td>645507</td>\n",
       "    </tr>\n",
       "    <tr>\n",
       "      <th>98177</th>\n",
       "      <td>676185</td>\n",
       "    </tr>\n",
       "    <tr>\n",
       "      <th>98053</th>\n",
       "      <td>678163</td>\n",
       "    </tr>\n",
       "    <tr>\n",
       "      <th>98077</th>\n",
       "      <td>682774</td>\n",
       "    </tr>\n",
       "    <tr>\n",
       "      <th>98074</th>\n",
       "      <td>685605</td>\n",
       "    </tr>\n",
       "    <tr>\n",
       "      <th>98075</th>\n",
       "      <td>790576</td>\n",
       "    </tr>\n",
       "    <tr>\n",
       "      <th>98199</th>\n",
       "      <td>791820</td>\n",
       "    </tr>\n",
       "    <tr>\n",
       "      <th>98033</th>\n",
       "      <td>803719</td>\n",
       "    </tr>\n",
       "    <tr>\n",
       "      <th>98005</th>\n",
       "      <td>810164</td>\n",
       "    </tr>\n",
       "    <tr>\n",
       "      <th>98119</th>\n",
       "      <td>849448</td>\n",
       "    </tr>\n",
       "    <tr>\n",
       "      <th>98006</th>\n",
       "      <td>859684</td>\n",
       "    </tr>\n",
       "    <tr>\n",
       "      <th>98105</th>\n",
       "      <td>862825</td>\n",
       "    </tr>\n",
       "    <tr>\n",
       "      <th>98109</th>\n",
       "      <td>879623</td>\n",
       "    </tr>\n",
       "    <tr>\n",
       "      <th>98102</th>\n",
       "      <td>901258</td>\n",
       "    </tr>\n",
       "    <tr>\n",
       "      <th>98112</th>\n",
       "      <td>1095499</td>\n",
       "    </tr>\n",
       "    <tr>\n",
       "      <th>98040</th>\n",
       "      <td>1194230</td>\n",
       "    </tr>\n",
       "    <tr>\n",
       "      <th>98004</th>\n",
       "      <td>1355927</td>\n",
       "    </tr>\n",
       "    <tr>\n",
       "      <th>98039</th>\n",
       "      <td>2160606</td>\n",
       "    </tr>\n",
       "  </tbody>\n",
       "</table>\n",
       "<p>70 rows × 1 columns</p>\n",
       "</div>"
      ],
      "text/plain": [
       "         avg_price\n",
       "zipcode           \n",
       "98002       234284\n",
       "98168       240328\n",
       "98032       251296\n",
       "98001       280804\n",
       "98148       284908\n",
       "98023       286732\n",
       "98188       289078\n",
       "98003       294111\n",
       "98030       296187\n",
       "98031       300539\n",
       "98198       302878\n",
       "98055       304262\n",
       "98178       310612\n",
       "98042       311632\n",
       "98022       315709\n",
       "98106       319581\n",
       "98092       334921\n",
       "98058       353608\n",
       "98108       355678\n",
       "98146       359483\n",
       "98038       366867\n",
       "98133       386997\n",
       "98118       417637\n",
       "98056       420890\n",
       "98010       423665\n",
       "98155       423725\n",
       "98126       424706\n",
       "98019       424788\n",
       "98045       439471\n",
       "98014       455617\n",
       "...            ...\n",
       "98117       576795\n",
       "98107       579053\n",
       "98024       580526\n",
       "98103       584919\n",
       "98144       594547\n",
       "98029       612653\n",
       "98027       616990\n",
       "98007       617105\n",
       "98116       618634\n",
       "98115       619900\n",
       "98122       634360\n",
       "98052       645231\n",
       "98008       645507\n",
       "98177       676185\n",
       "98053       678163\n",
       "98077       682774\n",
       "98074       685605\n",
       "98075       790576\n",
       "98199       791820\n",
       "98033       803719\n",
       "98005       810164\n",
       "98119       849448\n",
       "98006       859684\n",
       "98105       862825\n",
       "98109       879623\n",
       "98102       901258\n",
       "98112      1095499\n",
       "98040      1194230\n",
       "98004      1355927\n",
       "98039      2160606\n",
       "\n",
       "[70 rows x 1 columns]"
      ]
     },
     "execution_count": 42,
     "metadata": {},
     "output_type": "execute_result"
    }
   ],
   "source": [
    "#find the average price by zip code\n",
    "import pandas as pd\n",
    "df = pd.read_csv('kc_house_data.csv')\n",
    "#group zip codes by average price\n",
    "dfbyzip = df[['zipcode', 'price']].groupby('zipcode').mean() \\\n",
    "    .agg({ 'price': int})\n",
    "dfbyzip.sort_values(['price'], ascending=[True], inplace=True)\n",
    "dfbyzip.columns = ['avg_price']\n",
    "dfbyzip"
   ]
  },
  {
   "cell_type": "markdown",
   "metadata": {},
   "source": [
    "Based on eyeballing the results, I will divide the zip codes into the following categories based on average price for the zip code:\n",
    "\n",
    "(cheap) < \\$400,000 = 1\n",
    "\n",
    "(mid) \\$400,000 - \\$599,999 = 2\n",
    "\n",
    "(expensive) > \\$700,000 = 3"
   ]
  },
  {
   "cell_type": "code",
   "execution_count": 43,
   "metadata": {},
   "outputs": [
    {
     "data": {
      "text/html": [
       "<div>\n",
       "<style>\n",
       "    .dataframe thead tr:only-child th {\n",
       "        text-align: right;\n",
       "    }\n",
       "\n",
       "    .dataframe thead th {\n",
       "        text-align: left;\n",
       "    }\n",
       "\n",
       "    .dataframe tbody tr th {\n",
       "        vertical-align: top;\n",
       "    }\n",
       "</style>\n",
       "<table border=\"1\" class=\"dataframe\">\n",
       "  <thead>\n",
       "    <tr style=\"text-align: right;\">\n",
       "      <th></th>\n",
       "      <th>avg_price</th>\n",
       "      <th>zip_cat</th>\n",
       "    </tr>\n",
       "    <tr>\n",
       "      <th>zipcode</th>\n",
       "      <th></th>\n",
       "      <th></th>\n",
       "    </tr>\n",
       "  </thead>\n",
       "  <tbody>\n",
       "    <tr>\n",
       "      <th>98002</th>\n",
       "      <td>234284</td>\n",
       "      <td>1</td>\n",
       "    </tr>\n",
       "    <tr>\n",
       "      <th>98168</th>\n",
       "      <td>240328</td>\n",
       "      <td>1</td>\n",
       "    </tr>\n",
       "    <tr>\n",
       "      <th>98032</th>\n",
       "      <td>251296</td>\n",
       "      <td>1</td>\n",
       "    </tr>\n",
       "    <tr>\n",
       "      <th>98001</th>\n",
       "      <td>280804</td>\n",
       "      <td>1</td>\n",
       "    </tr>\n",
       "    <tr>\n",
       "      <th>98148</th>\n",
       "      <td>284908</td>\n",
       "      <td>1</td>\n",
       "    </tr>\n",
       "    <tr>\n",
       "      <th>98023</th>\n",
       "      <td>286732</td>\n",
       "      <td>1</td>\n",
       "    </tr>\n",
       "    <tr>\n",
       "      <th>98188</th>\n",
       "      <td>289078</td>\n",
       "      <td>1</td>\n",
       "    </tr>\n",
       "    <tr>\n",
       "      <th>98003</th>\n",
       "      <td>294111</td>\n",
       "      <td>1</td>\n",
       "    </tr>\n",
       "    <tr>\n",
       "      <th>98030</th>\n",
       "      <td>296187</td>\n",
       "      <td>1</td>\n",
       "    </tr>\n",
       "    <tr>\n",
       "      <th>98031</th>\n",
       "      <td>300539</td>\n",
       "      <td>1</td>\n",
       "    </tr>\n",
       "    <tr>\n",
       "      <th>98198</th>\n",
       "      <td>302878</td>\n",
       "      <td>1</td>\n",
       "    </tr>\n",
       "    <tr>\n",
       "      <th>98055</th>\n",
       "      <td>304262</td>\n",
       "      <td>1</td>\n",
       "    </tr>\n",
       "    <tr>\n",
       "      <th>98178</th>\n",
       "      <td>310612</td>\n",
       "      <td>1</td>\n",
       "    </tr>\n",
       "    <tr>\n",
       "      <th>98042</th>\n",
       "      <td>311632</td>\n",
       "      <td>1</td>\n",
       "    </tr>\n",
       "    <tr>\n",
       "      <th>98022</th>\n",
       "      <td>315709</td>\n",
       "      <td>1</td>\n",
       "    </tr>\n",
       "    <tr>\n",
       "      <th>98106</th>\n",
       "      <td>319581</td>\n",
       "      <td>1</td>\n",
       "    </tr>\n",
       "    <tr>\n",
       "      <th>98092</th>\n",
       "      <td>334921</td>\n",
       "      <td>1</td>\n",
       "    </tr>\n",
       "    <tr>\n",
       "      <th>98058</th>\n",
       "      <td>353608</td>\n",
       "      <td>1</td>\n",
       "    </tr>\n",
       "    <tr>\n",
       "      <th>98108</th>\n",
       "      <td>355678</td>\n",
       "      <td>1</td>\n",
       "    </tr>\n",
       "    <tr>\n",
       "      <th>98146</th>\n",
       "      <td>359483</td>\n",
       "      <td>1</td>\n",
       "    </tr>\n",
       "    <tr>\n",
       "      <th>98038</th>\n",
       "      <td>366867</td>\n",
       "      <td>1</td>\n",
       "    </tr>\n",
       "    <tr>\n",
       "      <th>98133</th>\n",
       "      <td>386997</td>\n",
       "      <td>1</td>\n",
       "    </tr>\n",
       "    <tr>\n",
       "      <th>98118</th>\n",
       "      <td>417637</td>\n",
       "      <td>2</td>\n",
       "    </tr>\n",
       "    <tr>\n",
       "      <th>98056</th>\n",
       "      <td>420890</td>\n",
       "      <td>2</td>\n",
       "    </tr>\n",
       "    <tr>\n",
       "      <th>98010</th>\n",
       "      <td>423665</td>\n",
       "      <td>2</td>\n",
       "    </tr>\n",
       "    <tr>\n",
       "      <th>98155</th>\n",
       "      <td>423725</td>\n",
       "      <td>2</td>\n",
       "    </tr>\n",
       "    <tr>\n",
       "      <th>98126</th>\n",
       "      <td>424706</td>\n",
       "      <td>2</td>\n",
       "    </tr>\n",
       "    <tr>\n",
       "      <th>98019</th>\n",
       "      <td>424788</td>\n",
       "      <td>2</td>\n",
       "    </tr>\n",
       "    <tr>\n",
       "      <th>98045</th>\n",
       "      <td>439471</td>\n",
       "      <td>2</td>\n",
       "    </tr>\n",
       "    <tr>\n",
       "      <th>98014</th>\n",
       "      <td>455617</td>\n",
       "      <td>2</td>\n",
       "    </tr>\n",
       "    <tr>\n",
       "      <th>...</th>\n",
       "      <td>...</td>\n",
       "      <td>...</td>\n",
       "    </tr>\n",
       "    <tr>\n",
       "      <th>98117</th>\n",
       "      <td>576795</td>\n",
       "      <td>2</td>\n",
       "    </tr>\n",
       "    <tr>\n",
       "      <th>98107</th>\n",
       "      <td>579053</td>\n",
       "      <td>2</td>\n",
       "    </tr>\n",
       "    <tr>\n",
       "      <th>98024</th>\n",
       "      <td>580526</td>\n",
       "      <td>2</td>\n",
       "    </tr>\n",
       "    <tr>\n",
       "      <th>98103</th>\n",
       "      <td>584919</td>\n",
       "      <td>2</td>\n",
       "    </tr>\n",
       "    <tr>\n",
       "      <th>98144</th>\n",
       "      <td>594547</td>\n",
       "      <td>2</td>\n",
       "    </tr>\n",
       "    <tr>\n",
       "      <th>98029</th>\n",
       "      <td>612653</td>\n",
       "      <td>3</td>\n",
       "    </tr>\n",
       "    <tr>\n",
       "      <th>98027</th>\n",
       "      <td>616990</td>\n",
       "      <td>3</td>\n",
       "    </tr>\n",
       "    <tr>\n",
       "      <th>98007</th>\n",
       "      <td>617105</td>\n",
       "      <td>3</td>\n",
       "    </tr>\n",
       "    <tr>\n",
       "      <th>98116</th>\n",
       "      <td>618634</td>\n",
       "      <td>3</td>\n",
       "    </tr>\n",
       "    <tr>\n",
       "      <th>98115</th>\n",
       "      <td>619900</td>\n",
       "      <td>3</td>\n",
       "    </tr>\n",
       "    <tr>\n",
       "      <th>98122</th>\n",
       "      <td>634360</td>\n",
       "      <td>3</td>\n",
       "    </tr>\n",
       "    <tr>\n",
       "      <th>98052</th>\n",
       "      <td>645231</td>\n",
       "      <td>3</td>\n",
       "    </tr>\n",
       "    <tr>\n",
       "      <th>98008</th>\n",
       "      <td>645507</td>\n",
       "      <td>3</td>\n",
       "    </tr>\n",
       "    <tr>\n",
       "      <th>98177</th>\n",
       "      <td>676185</td>\n",
       "      <td>3</td>\n",
       "    </tr>\n",
       "    <tr>\n",
       "      <th>98053</th>\n",
       "      <td>678163</td>\n",
       "      <td>3</td>\n",
       "    </tr>\n",
       "    <tr>\n",
       "      <th>98077</th>\n",
       "      <td>682774</td>\n",
       "      <td>3</td>\n",
       "    </tr>\n",
       "    <tr>\n",
       "      <th>98074</th>\n",
       "      <td>685605</td>\n",
       "      <td>3</td>\n",
       "    </tr>\n",
       "    <tr>\n",
       "      <th>98075</th>\n",
       "      <td>790576</td>\n",
       "      <td>3</td>\n",
       "    </tr>\n",
       "    <tr>\n",
       "      <th>98199</th>\n",
       "      <td>791820</td>\n",
       "      <td>3</td>\n",
       "    </tr>\n",
       "    <tr>\n",
       "      <th>98033</th>\n",
       "      <td>803719</td>\n",
       "      <td>3</td>\n",
       "    </tr>\n",
       "    <tr>\n",
       "      <th>98005</th>\n",
       "      <td>810164</td>\n",
       "      <td>3</td>\n",
       "    </tr>\n",
       "    <tr>\n",
       "      <th>98119</th>\n",
       "      <td>849448</td>\n",
       "      <td>3</td>\n",
       "    </tr>\n",
       "    <tr>\n",
       "      <th>98006</th>\n",
       "      <td>859684</td>\n",
       "      <td>3</td>\n",
       "    </tr>\n",
       "    <tr>\n",
       "      <th>98105</th>\n",
       "      <td>862825</td>\n",
       "      <td>3</td>\n",
       "    </tr>\n",
       "    <tr>\n",
       "      <th>98109</th>\n",
       "      <td>879623</td>\n",
       "      <td>3</td>\n",
       "    </tr>\n",
       "    <tr>\n",
       "      <th>98102</th>\n",
       "      <td>901258</td>\n",
       "      <td>3</td>\n",
       "    </tr>\n",
       "    <tr>\n",
       "      <th>98112</th>\n",
       "      <td>1095499</td>\n",
       "      <td>3</td>\n",
       "    </tr>\n",
       "    <tr>\n",
       "      <th>98040</th>\n",
       "      <td>1194230</td>\n",
       "      <td>3</td>\n",
       "    </tr>\n",
       "    <tr>\n",
       "      <th>98004</th>\n",
       "      <td>1355927</td>\n",
       "      <td>3</td>\n",
       "    </tr>\n",
       "    <tr>\n",
       "      <th>98039</th>\n",
       "      <td>2160606</td>\n",
       "      <td>3</td>\n",
       "    </tr>\n",
       "  </tbody>\n",
       "</table>\n",
       "<p>70 rows × 2 columns</p>\n",
       "</div>"
      ],
      "text/plain": [
       "         avg_price  zip_cat\n",
       "zipcode                    \n",
       "98002       234284        1\n",
       "98168       240328        1\n",
       "98032       251296        1\n",
       "98001       280804        1\n",
       "98148       284908        1\n",
       "98023       286732        1\n",
       "98188       289078        1\n",
       "98003       294111        1\n",
       "98030       296187        1\n",
       "98031       300539        1\n",
       "98198       302878        1\n",
       "98055       304262        1\n",
       "98178       310612        1\n",
       "98042       311632        1\n",
       "98022       315709        1\n",
       "98106       319581        1\n",
       "98092       334921        1\n",
       "98058       353608        1\n",
       "98108       355678        1\n",
       "98146       359483        1\n",
       "98038       366867        1\n",
       "98133       386997        1\n",
       "98118       417637        2\n",
       "98056       420890        2\n",
       "98010       423665        2\n",
       "98155       423725        2\n",
       "98126       424706        2\n",
       "98019       424788        2\n",
       "98045       439471        2\n",
       "98014       455617        2\n",
       "...            ...      ...\n",
       "98117       576795        2\n",
       "98107       579053        2\n",
       "98024       580526        2\n",
       "98103       584919        2\n",
       "98144       594547        2\n",
       "98029       612653        3\n",
       "98027       616990        3\n",
       "98007       617105        3\n",
       "98116       618634        3\n",
       "98115       619900        3\n",
       "98122       634360        3\n",
       "98052       645231        3\n",
       "98008       645507        3\n",
       "98177       676185        3\n",
       "98053       678163        3\n",
       "98077       682774        3\n",
       "98074       685605        3\n",
       "98075       790576        3\n",
       "98199       791820        3\n",
       "98033       803719        3\n",
       "98005       810164        3\n",
       "98119       849448        3\n",
       "98006       859684        3\n",
       "98105       862825        3\n",
       "98109       879623        3\n",
       "98102       901258        3\n",
       "98112      1095499        3\n",
       "98040      1194230        3\n",
       "98004      1355927        3\n",
       "98039      2160606        3\n",
       "\n",
       "[70 rows x 2 columns]"
      ]
     },
     "execution_count": 43,
     "metadata": {},
     "output_type": "execute_result"
    }
   ],
   "source": [
    "import numpy as np\n",
    "dfbyzip['zip_cat'] = np.where(dfbyzip['avg_price'] < 400000, 1, 0)\n",
    "dfbyzip['zip_cat'] = np.where(dfbyzip['avg_price'] >= 400000, 2, dfbyzip['zip_cat'])\n",
    "dfbyzip['zip_cat'] = np.where(dfbyzip['avg_price'] >= 600000, 3, dfbyzip['zip_cat'])\n",
    "dfbyzip"
   ]
  },
  {
   "cell_type": "markdown",
   "metadata": {},
   "source": [
    "The zip_cat column needs to be added to the original dataframe"
   ]
  },
  {
   "cell_type": "code",
   "execution_count": 44,
   "metadata": {},
   "outputs": [
    {
     "data": {
      "text/plain": [
       "Index(['id', 'date', 'price', 'bedrooms', 'bathrooms', 'sqft_living',\n",
       "       'sqft_lot', 'floors', 'waterfront', 'view', 'condition', 'grade',\n",
       "       'sqft_above', 'sqft_basement', 'yr_built', 'yr_renovated', 'zipcode',\n",
       "       'lat', 'long', 'sqft_living15', 'sqft_lot15', 'avg_price', 'zip_cat'],\n",
       "      dtype='object')"
      ]
     },
     "execution_count": 44,
     "metadata": {},
     "output_type": "execute_result"
    }
   ],
   "source": [
    "df = df.merge(dfbyzip, how='inner',left_on='zipcode', right_index=True)\n",
    "df.columns"
   ]
  },
  {
   "cell_type": "code",
   "execution_count": 45,
   "metadata": {},
   "outputs": [
    {
     "data": {
      "image/png": "[encoded data removed]",
      "text/plain": [
       "<matplotlib.figure.Figure at 0x7f29be742048>"
      ]
     },
     "metadata": {},
     "output_type": "display_data"
    }
   ],
   "source": [
    "#dropping categorical data, except for grade\n",
    "df = df.drop(['id', 'date', 'zipcode', 'waterfront', 'view', 'condition', 'lat', 'long', 'yr_built', 'yr_renovated'], axis=1)\n",
    "\n",
    "#dropping potentially less useful predictors\n",
    "df = df.drop(['sqft_above', 'sqft_living15', 'sqft_lot15', 'floors', 'bedrooms', 'bathrooms', 'floors', 'sqft_lot', 'sqft_basement'], axis=1)\n",
    "\n",
    "#dropping unnecessary column from merge\n",
    "df = df.drop(['avg_price'], axis=1)\n",
    "\n",
    "# Get X matrix and y vector.\n",
    "X = df.drop(['price'], axis=1).as_matrix()\n",
    "y = df[['price']].as_matrix()\n",
    "\n",
    "# Train/test split\n",
    "from sklearn.linear_model import LinearRegression\n",
    "from sklearn.model_selection import train_test_split\n",
    "X_train, X_test, y_train, y_test = train_test_split(X, y, test_size=0.2)\n",
    "\n",
    "# Train the regression model \n",
    "lr = LinearRegression()\n",
    "lr.fit(X_train, y_train)\n",
    "\n",
    "# Generate predictions for analysis\n",
    "train_predicted = lr.predict(X_train)\n",
    "test_predicted = lr.predict(X_test)\n",
    "\n",
    "# plot residuals against predictions\n",
    "import matplotlib.pyplot as plt\n",
    "plt.scatter(train_predicted , train_predicted - y_train, color = 'b', s=1, alpha=0.5)\n",
    "test_predicted = lr.predict(X_test)\n",
    "plt.scatter(test_predicted , test_predicted - y_test, color = 'g', s=1)\n",
    "plt.hlines(y=0, xmin=0, xmax = 5000000, color='r')\n",
    "plt.show()"
   ]
  },
  {
   "cell_type": "code",
   "execution_count": 46,
   "metadata": {},
   "outputs": [
    {
     "data": {
      "text/plain": [
       "(0.62659224956464876, 0.62694561017560924, 137061.96461768122)"
      ]
     },
     "execution_count": 46,
     "metadata": {},
     "output_type": "execute_result"
    }
   ],
   "source": [
    "from sklearn import metrics\n",
    "\n",
    "metrics.r2_score(y_test, test_predicted), metrics.explained_variance_score(y_test, test_predicted), metrics.mean_absolute_error(y_test, test_predicted)"
   ]
  },
  {
   "cell_type": "markdown",
   "metadata": {},
   "source": [
    "As we can see, this change dramatically improved the model's scores, from approximately 0.55 to approximately 0.63."
   ]
  },
  {
   "cell_type": "markdown",
   "metadata": {},
   "source": [
    "#### Increase zip code categories from three to five\n",
    "This improves the model slightly, as can be seen below:"
   ]
  },
  {
   "cell_type": "code",
   "execution_count": 47,
   "metadata": {},
   "outputs": [
    {
     "data": {
      "image/png": "[encoded data removed]",
      "text/plain": [
       "<matplotlib.figure.Figure at 0x7f29be6caf98>"
      ]
     },
     "metadata": {},
     "output_type": "display_data"
    }
   ],
   "source": [
    "#find the average price by zip code\n",
    "import pandas as pd\n",
    "df = pd.read_csv('kc_house_data.csv')\n",
    "#group zip codes by average price\n",
    "dfbyzip = df[['zipcode', 'price']].groupby('zipcode').mean() \\\n",
    "    .agg({ 'price': int})\n",
    "dfbyzip.sort_values(['price'], ascending=[True], inplace=True)\n",
    "dfbyzip.columns = ['avg_price']\n",
    "\n",
    "dfbyzip['zip_cat'] = np.where(dfbyzip['avg_price'] < 300000, 1, 0)\n",
    "dfbyzip['zip_cat'] = np.where(dfbyzip['avg_price'] >= 300000, 2, dfbyzip['zip_cat'])\n",
    "dfbyzip['zip_cat'] = np.where(dfbyzip['avg_price'] >= 600000, 3, dfbyzip['zip_cat'])\n",
    "dfbyzip['zip_cat'] = np.where(dfbyzip['avg_price'] >= 800000, 4, dfbyzip['zip_cat'])\n",
    "dfbyzip['zip_cat'] = np.where(dfbyzip['avg_price'] >= 1000000, 5, dfbyzip['zip_cat'])\n",
    "df = df.merge(dfbyzip, how='inner',left_on='zipcode', right_index=True)\n",
    "\n",
    "#dropping categorical data, except for grade\n",
    "df = df.drop(['id', 'date', 'zipcode', 'waterfront', 'view', 'condition', 'lat', 'long', 'yr_built', 'yr_renovated'], axis=1)\n",
    "\n",
    "#dropping potentially less useful predictors\n",
    "df = df.drop(['sqft_above', 'sqft_living15', 'sqft_lot15', 'floors', 'bedrooms', 'bathrooms', 'floors', 'sqft_lot', 'sqft_basement'], axis=1)\n",
    "\n",
    "#dropping unnecessary column from merge\n",
    "df = df.drop(['avg_price'], axis=1)\n",
    "\n",
    "# Get X matrix and y vector.\n",
    "X = df.drop(['price'], axis=1).as_matrix()\n",
    "y = df[['price']].as_matrix()\n",
    "\n",
    "# Train/test split\n",
    "from sklearn.linear_model import LinearRegression\n",
    "from sklearn.model_selection import train_test_split\n",
    "X_train, X_test, y_train, y_test = train_test_split(X, y, test_size=0.2)\n",
    "\n",
    "# Train the regression model \n",
    "lr = LinearRegression()\n",
    "lr.fit(X_train, y_train)\n",
    "\n",
    "# Generate predictions for analysis\n",
    "train_predicted = lr.predict(X_train)\n",
    "test_predicted = lr.predict(X_test)\n",
    "\n",
    "# plot residuals against predictions\n",
    "import matplotlib.pyplot as plt\n",
    "plt.scatter(train_predicted , train_predicted - y_train, color = 'b', s=1, alpha=0.5)\n",
    "test_predicted = lr.predict(X_test)\n",
    "plt.scatter(test_predicted , test_predicted - y_test, color = 'g', s=1)\n",
    "plt.hlines(y=0, xmin=0, xmax = 5000000, color='r')\n",
    "plt.show()"
   ]
  },
  {
   "cell_type": "code",
   "execution_count": 48,
   "metadata": {},
   "outputs": [
    {
     "data": {
      "text/plain": [
       "(0.67542534380954056, 0.67545480583847994, 132270.81502928707)"
      ]
     },
     "execution_count": 48,
     "metadata": {},
     "output_type": "execute_result"
    }
   ],
   "source": [
    "from sklearn import metrics\n",
    "\n",
    "metrics.r2_score(y_test, test_predicted), metrics.explained_variance_score(y_test, test_predicted), metrics.mean_absolute_error(y_test, test_predicted)"
   ]
  },
  {
   "cell_type": "markdown",
   "metadata": {},
   "source": [
    "The intercept and coefficient for this final model can be seen below:"
   ]
  },
  {
   "cell_type": "code",
   "execution_count": 49,
   "metadata": {},
   "outputs": [
    {
     "data": {
      "text/plain": [
       "(array([[    179.67574152,   57447.36600511,  152974.61751448]]),\n",
       " array([-643037.23843086]))"
      ]
     },
     "execution_count": 49,
     "metadata": {},
     "output_type": "execute_result"
    }
   ],
   "source": [
    "lr.coef_,lr.intercept_"
   ]
  },
  {
   "cell_type": "markdown",
   "metadata": {},
   "source": [
    "### JD-comments\n",
    "\n",
    "This is excellent work.  \n",
    "\n",
    "You used multiple metrics to analyze the models.  You could have also used statsmodels OLS and summary, but this is great.\n",
    "\n",
    "You tried multiple categorizations of the zipcode.  excellent! \n",
    "\n",
    "You should also try to think about the statistical properties of the coefficients.  Thats the only thing missing here.  you should be able to improve the score even more by removing columns with poor statistical properties."
   ]
  }
 ],
 "metadata": {
  "kernelspec": {
   "display_name": "Python 3",
   "language": "python",
   "name": "python3"
  },
  "language_info": {
   "codemirror_mode": {
    "name": "ipython",
    "version": 3
   },
   "file_extension": ".py",
   "mimetype": "text/x-python",
   "name": "python",
   "nbconvert_exporter": "python",
   "pygments_lexer": "ipython3",
   "version": "3.5.2"
  }
 },
 "nbformat": 4,
 "nbformat_minor": 2
}
